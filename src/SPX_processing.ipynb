{
 "cells": [
  {
   "cell_type": "code",
   "execution_count": 1,
   "id": "37d29f61",
   "metadata": {},
   "outputs": [],
   "source": [
    "SPX_1M = \"../data_manual/SPX_1m.csv\""
   ]
  },
  {
   "cell_type": "code",
   "execution_count": 2,
   "id": "f0f7067b",
   "metadata": {},
   "outputs": [
    {
     "data": {
      "text/html": [
       "<div><style>\n",
       ".dataframe > thead > tr,\n",
       ".dataframe > tbody > tr {\n",
       "  text-align: right;\n",
       "  white-space: pre-wrap;\n",
       "}\n",
       "</style>\n",
       "<small>shape: (4_120, 6)</small><table border=\"1\" class=\"dataframe\"><thead><tr><th>date</th><th>open</th><th>high</th><th>low</th><th>close</th><th>change</th></tr><tr><td>datetime[μs]</td><td>f64</td><td>f64</td><td>f64</td><td>f64</td><td>f64</td></tr></thead><tbody><tr><td>2025-03-03 09:30:00</td><td>5968.33</td><td>5972.39</td><td>5967.38</td><td>5968.67</td><td>0.0</td></tr><tr><td>2025-03-03 09:31:00</td><td>5969.04</td><td>5976.85</td><td>5968.94</td><td>5976.85</td><td>8.18</td></tr><tr><td>2025-03-03 09:32:00</td><td>5977.58</td><td>5983.49</td><td>5977.58</td><td>5982.61</td><td>5.76</td></tr><tr><td>2025-03-03 09:33:00</td><td>5982.98</td><td>5986.09</td><td>5978.87</td><td>5979.04</td><td>-3.57</td></tr><tr><td>2025-03-03 09:34:00</td><td>5979.03</td><td>5982.73</td><td>5978.59</td><td>5979.67</td><td>0.63</td></tr><tr><td>&hellip;</td><td>&hellip;</td><td>&hellip;</td><td>&hellip;</td><td>&hellip;</td><td>&hellip;</td></tr><tr><td>2025-03-14 16:17:00</td><td>5638.94</td><td>5638.94</td><td>5638.94</td><td>5638.94</td><td>0.0</td></tr><tr><td>2025-03-14 16:18:00</td><td>5638.94</td><td>5638.94</td><td>5638.94</td><td>5638.94</td><td>0.0</td></tr><tr><td>2025-03-14 16:19:00</td><td>5638.94</td><td>5638.94</td><td>5638.94</td><td>5638.94</td><td>0.0</td></tr><tr><td>2025-03-14 16:20:00</td><td>5638.94</td><td>5638.94</td><td>5638.94</td><td>5638.94</td><td>0.0</td></tr><tr><td>2025-03-14 16:57:00</td><td>5638.94</td><td>5638.94</td><td>5638.94</td><td>5638.94</td><td>0.0</td></tr></tbody></table></div>"
      ],
      "text/plain": [
       "shape: (4_120, 6)\n",
       "┌─────────────────────┬─────────┬─────────┬─────────┬─────────┬────────┐\n",
       "│ date                ┆ open    ┆ high    ┆ low     ┆ close   ┆ change │\n",
       "│ ---                 ┆ ---     ┆ ---     ┆ ---     ┆ ---     ┆ ---    │\n",
       "│ datetime[μs]        ┆ f64     ┆ f64     ┆ f64     ┆ f64     ┆ f64    │\n",
       "╞═════════════════════╪═════════╪═════════╪═════════╪═════════╪════════╡\n",
       "│ 2025-03-03 09:30:00 ┆ 5968.33 ┆ 5972.39 ┆ 5967.38 ┆ 5968.67 ┆ 0.0    │\n",
       "│ 2025-03-03 09:31:00 ┆ 5969.04 ┆ 5976.85 ┆ 5968.94 ┆ 5976.85 ┆ 8.18   │\n",
       "│ 2025-03-03 09:32:00 ┆ 5977.58 ┆ 5983.49 ┆ 5977.58 ┆ 5982.61 ┆ 5.76   │\n",
       "│ 2025-03-03 09:33:00 ┆ 5982.98 ┆ 5986.09 ┆ 5978.87 ┆ 5979.04 ┆ -3.57  │\n",
       "│ 2025-03-03 09:34:00 ┆ 5979.03 ┆ 5982.73 ┆ 5978.59 ┆ 5979.67 ┆ 0.63   │\n",
       "│ …                   ┆ …       ┆ …       ┆ …       ┆ …       ┆ …      │\n",
       "│ 2025-03-14 16:17:00 ┆ 5638.94 ┆ 5638.94 ┆ 5638.94 ┆ 5638.94 ┆ 0.0    │\n",
       "│ 2025-03-14 16:18:00 ┆ 5638.94 ┆ 5638.94 ┆ 5638.94 ┆ 5638.94 ┆ 0.0    │\n",
       "│ 2025-03-14 16:19:00 ┆ 5638.94 ┆ 5638.94 ┆ 5638.94 ┆ 5638.94 ┆ 0.0    │\n",
       "│ 2025-03-14 16:20:00 ┆ 5638.94 ┆ 5638.94 ┆ 5638.94 ┆ 5638.94 ┆ 0.0    │\n",
       "│ 2025-03-14 16:57:00 ┆ 5638.94 ┆ 5638.94 ┆ 5638.94 ┆ 5638.94 ┆ 0.0    │\n",
       "└─────────────────────┴─────────┴─────────┴─────────┴─────────┴────────┘"
      ]
     },
     "execution_count": 2,
     "metadata": {},
     "output_type": "execute_result"
    }
   ],
   "source": [
    "import polars as pl\n",
    "spx = pl.read_csv(SPX_1M)\n",
    "ts_col = spx.columns[0]\n",
    "spx = spx.with_columns(pl.col(ts_col)\n",
    "      .str.strptime(pl.Datetime, \"%Y-%m-%d %H:%M:%S\", strict=False)\n",
    "      .alias(\"date\")).drop(ts_col)\n",
    "names = [\"open\",\"high\",\"low\",\"close\",\"change\"]\n",
    "mapping = {spx.columns[i]: names[i] for i in range(len(names))}\n",
    "spx = spx.rename(mapping)\n",
    "spx = spx.select([\"date\"] + names).sort(\"date\")\n",
    "spx = spx.filter(pl.col(\"date\").is_not_null())\n",
    "spx"
   ]
  },
  {
   "cell_type": "code",
   "execution_count": 3,
   "id": "303a8067",
   "metadata": {},
   "outputs": [
    {
     "data": {
      "application/vnd.microsoft.datawrangler.viewer.v0+json": {
       "columns": [
        {
         "name": "date",
         "rawType": "datetime64[ns]",
         "type": "datetime"
        },
        {
         "name": "Open",
         "rawType": "float64",
         "type": "float"
        },
        {
         "name": "High",
         "rawType": "float64",
         "type": "float"
        },
        {
         "name": "Low",
         "rawType": "float64",
         "type": "float"
        },
        {
         "name": "Close",
         "rawType": "float64",
         "type": "float"
        },
        {
         "name": "Change",
         "rawType": "float64",
         "type": "float"
        }
       ],
       "conversionMethod": "pd.DataFrame",
       "ref": "a82a5cc1-9d43-4c0e-bb70-1be0488e9e2f",
       "rows": [
        [
         "2025-03-03 09:30:00",
         "5968.33",
         "5972.39",
         "5967.38",
         "5968.67",
         "0.0"
        ],
        [
         "2025-03-03 09:31:00",
         "5969.04",
         "5976.85",
         "5968.94",
         "5976.85",
         "8.180000000000291"
        ],
        [
         "2025-03-03 09:32:00",
         "5977.58",
         "5983.49",
         "5977.58",
         "5982.61",
         "5.759999999999309"
        ],
        [
         "2025-03-03 09:33:00",
         "5982.98",
         "5986.09",
         "5978.87",
         "5979.04",
         "-3.569999999999709"
        ],
        [
         "2025-03-03 09:34:00",
         "5979.03",
         "5982.73",
         "5978.59",
         "5979.67",
         "0.6300000000001091"
        ],
        [
         "2025-03-03 09:35:00",
         "5979.42",
         "5981.7",
         "5976.8",
         "5976.8",
         "-2.869999999999891"
        ],
        [
         "2025-03-03 09:36:00",
         "5975.7",
         "5979.53",
         "5971.77",
         "5979.3",
         "2.5"
        ],
        [
         "2025-03-03 09:37:00",
         "5979.48",
         "5980.46",
         "5974.02",
         "5974.49",
         "-4.8100000000004"
        ],
        [
         "2025-03-03 09:38:00",
         "5974.37",
         "5974.94",
         "5965.75",
         "5968.13",
         "-6.359999999999673"
        ],
        [
         "2025-03-03 09:39:00",
         "5968.58",
         "5968.58",
         "5962.43",
         "5964.7",
         "-3.430000000000291"
        ],
        [
         "2025-03-03 09:40:00",
         "5964.47",
         "5968.66",
         "5963.96",
         "5964.63",
         "-0.0699999999997089"
        ],
        [
         "2025-03-03 09:41:00",
         "5965.28",
         "5968.1",
         "5962.92",
         "5967.98",
         "3.3499999999994543"
        ],
        [
         "2025-03-03 09:42:00",
         "5967.87",
         "5967.87",
         "5963.31",
         "5963.31",
         "-4.669999999999163"
        ],
        [
         "2025-03-03 09:43:00",
         "5963.06",
         "5964.25",
         "5957.99",
         "5959.83",
         "-3.480000000000473"
        ],
        [
         "2025-03-03 09:44:00",
         "5960.25",
         "5961.23",
         "5959.25",
         "5960.58",
         "0.75"
        ],
        [
         "2025-03-03 09:45:00",
         "5960.63",
         "5961.15",
         "5955.73",
         "5959.53",
         "-1.050000000000182"
        ],
        [
         "2025-03-03 09:46:00",
         "5959.98",
         "5964.25",
         "5959.95",
         "5963.1",
         "3.5700000000006185"
        ],
        [
         "2025-03-03 09:47:00",
         "5962.96",
         "5968.08",
         "5962.34",
         "5967.22",
         "4.119999999999891"
        ],
        [
         "2025-03-03 09:48:00",
         "5967.29",
         "5967.99",
         "5962.65",
         "5962.71",
         "-4.510000000000218"
        ],
        [
         "2025-03-03 09:49:00",
         "5962.5",
         "5962.67",
         "5953.1",
         "5954.67",
         "-8.039999999999964"
        ],
        [
         "2025-03-03 09:50:00",
         "5954.57",
         "5955.83",
         "5952.35",
         "5952.69",
         "-1.980000000000473"
        ],
        [
         "2025-03-03 09:51:00",
         "5952.92",
         "5957.17",
         "5950.56",
         "5957.17",
         "4.480000000000473"
        ],
        [
         "2025-03-03 09:52:00",
         "5957.09",
         "5957.09",
         "5951.75",
         "5952.94",
         "-4.230000000000473"
        ],
        [
         "2025-03-03 09:53:00",
         "5952.22",
         "5953.73",
         "5950.01",
         "5953.15",
         "0.2100000000000363"
        ],
        [
         "2025-03-03 09:54:00",
         "5953.29",
         "5955.28",
         "5952.26",
         "5952.41",
         "-0.7399999999997817"
        ],
        [
         "2025-03-03 09:55:00",
         "5952.4",
         "5953.52",
         "5946.87",
         "5949.16",
         "-3.25"
        ],
        [
         "2025-03-03 09:56:00",
         "5949.04",
         "5950.64",
         "5942.78",
         "5942.78",
         "-6.380000000000109"
        ],
        [
         "2025-03-03 09:57:00",
         "5943.0",
         "5943.54",
         "5938.26",
         "5938.26",
         "-4.519999999999527"
        ],
        [
         "2025-03-03 09:58:00",
         "5938.18",
         "5943.81",
         "5937.59",
         "5943.16",
         "4.899999999999636"
        ],
        [
         "2025-03-03 09:59:00",
         "5943.24",
         "5944.66",
         "5936.76",
         "5937.04",
         "-6.119999999999891"
        ],
        [
         "2025-03-03 10:00:00",
         "5939.45",
         "5939.45",
         "5919.18",
         "5930.27",
         "-6.769999999999527"
        ],
        [
         "2025-03-03 10:01:00",
         "5930.18",
         "5936.72",
         "5929.69",
         "5929.9",
         "-0.3700000000008003"
        ],
        [
         "2025-03-03 10:02:00",
         "5930.41",
         "5932.35",
         "5926.31",
         "5932.35",
         "2.4500000000007276"
        ],
        [
         "2025-03-03 10:03:00",
         "5932.01",
         "5936.8",
         "5931.12",
         "5936.8",
         "4.449999999999818"
        ],
        [
         "2025-03-03 10:04:00",
         "5936.56",
         "5939.74",
         "5933.87",
         "5939.13",
         "2.3299999999999272"
        ],
        [
         "2025-03-03 10:05:00",
         "5939.4",
         "5939.75",
         "5936.12",
         "5938.67",
         "-0.4600000000000364"
        ],
        [
         "2025-03-03 10:06:00",
         "5938.73",
         "5939.96",
         "5934.34",
         "5936.42",
         "-2.25"
        ],
        [
         "2025-03-03 10:07:00",
         "5936.33",
         "5945.24",
         "5936.26",
         "5940.89",
         "4.470000000000255"
        ],
        [
         "2025-03-03 10:08:00",
         "5940.41",
         "5940.41",
         "5934.18",
         "5934.74",
         "-6.150000000000546"
        ],
        [
         "2025-03-03 10:09:00",
         "5934.33",
         "5934.33",
         "5929.84",
         "5931.96",
         "-2.7799999999997453"
        ],
        [
         "2025-03-03 10:10:00",
         "5931.68",
         "5936.72",
         "5928.63",
         "5936.72",
         "4.760000000000218"
        ],
        [
         "2025-03-03 10:11:00",
         "5936.83",
         "5941.26",
         "5935.28",
         "5939.94",
         "3.219999999999345"
        ],
        [
         "2025-03-03 10:12:00",
         "5939.69",
         "5942.86",
         "5937.74",
         "5938.12",
         "-1.819999999999709"
        ],
        [
         "2025-03-03 10:13:00",
         "5938.21",
         "5938.38",
         "5933.88",
         "5935.55",
         "-2.569999999999709"
        ],
        [
         "2025-03-03 10:14:00",
         "5935.46",
         "5936.24",
         "5930.65",
         "5930.93",
         "-4.619999999999891"
        ],
        [
         "2025-03-03 10:15:00",
         "5931.24",
         "5932.27",
         "5927.73",
         "5930.09",
         "-0.8400000000001455"
        ],
        [
         "2025-03-03 10:16:00",
         "5930.48",
         "5931.37",
         "5929.28",
         "5930.73",
         "0.6399999999994179"
        ],
        [
         "2025-03-03 10:17:00",
         "5931.01",
         "5934.73",
         "5930.75",
         "5932.3",
         "1.5700000000006185"
        ],
        [
         "2025-03-03 10:18:00",
         "5932.41",
         "5935.23",
         "5930.33",
         "5931.5",
         "-0.8000000000001819"
        ],
        [
         "2025-03-03 10:19:00",
         "5931.73",
         "5933.06",
         "5929.59",
         "5932.83",
         "1.3299999999999272"
        ]
       ],
       "shape": {
        "columns": 5,
        "rows": 4121
       }
      },
      "text/html": [
       "<div>\n",
       "<style scoped>\n",
       "    .dataframe tbody tr th:only-of-type {\n",
       "        vertical-align: middle;\n",
       "    }\n",
       "\n",
       "    .dataframe tbody tr th {\n",
       "        vertical-align: top;\n",
       "    }\n",
       "\n",
       "    .dataframe thead th {\n",
       "        text-align: right;\n",
       "    }\n",
       "</style>\n",
       "<table border=\"1\" class=\"dataframe\">\n",
       "  <thead>\n",
       "    <tr style=\"text-align: right;\">\n",
       "      <th></th>\n",
       "      <th>Open</th>\n",
       "      <th>High</th>\n",
       "      <th>Low</th>\n",
       "      <th>Close</th>\n",
       "      <th>Change</th>\n",
       "    </tr>\n",
       "    <tr>\n",
       "      <th>date</th>\n",
       "      <th></th>\n",
       "      <th></th>\n",
       "      <th></th>\n",
       "      <th></th>\n",
       "      <th></th>\n",
       "    </tr>\n",
       "  </thead>\n",
       "  <tbody>\n",
       "    <tr>\n",
       "      <th>2025-03-03 09:30:00</th>\n",
       "      <td>5968.33</td>\n",
       "      <td>5972.39</td>\n",
       "      <td>5967.38</td>\n",
       "      <td>5968.67</td>\n",
       "      <td>0.00</td>\n",
       "    </tr>\n",
       "    <tr>\n",
       "      <th>2025-03-03 09:31:00</th>\n",
       "      <td>5969.04</td>\n",
       "      <td>5976.85</td>\n",
       "      <td>5968.94</td>\n",
       "      <td>5976.85</td>\n",
       "      <td>8.18</td>\n",
       "    </tr>\n",
       "    <tr>\n",
       "      <th>2025-03-03 09:32:00</th>\n",
       "      <td>5977.58</td>\n",
       "      <td>5983.49</td>\n",
       "      <td>5977.58</td>\n",
       "      <td>5982.61</td>\n",
       "      <td>5.76</td>\n",
       "    </tr>\n",
       "    <tr>\n",
       "      <th>2025-03-03 09:33:00</th>\n",
       "      <td>5982.98</td>\n",
       "      <td>5986.09</td>\n",
       "      <td>5978.87</td>\n",
       "      <td>5979.04</td>\n",
       "      <td>-3.57</td>\n",
       "    </tr>\n",
       "    <tr>\n",
       "      <th>2025-03-03 09:34:00</th>\n",
       "      <td>5979.03</td>\n",
       "      <td>5982.73</td>\n",
       "      <td>5978.59</td>\n",
       "      <td>5979.67</td>\n",
       "      <td>0.63</td>\n",
       "    </tr>\n",
       "    <tr>\n",
       "      <th>...</th>\n",
       "      <td>...</td>\n",
       "      <td>...</td>\n",
       "      <td>...</td>\n",
       "      <td>...</td>\n",
       "      <td>...</td>\n",
       "    </tr>\n",
       "    <tr>\n",
       "      <th>2025-03-14 16:18:00</th>\n",
       "      <td>5638.94</td>\n",
       "      <td>5638.94</td>\n",
       "      <td>5638.94</td>\n",
       "      <td>5638.94</td>\n",
       "      <td>0.00</td>\n",
       "    </tr>\n",
       "    <tr>\n",
       "      <th>2025-03-14 16:19:00</th>\n",
       "      <td>5638.94</td>\n",
       "      <td>5638.94</td>\n",
       "      <td>5638.94</td>\n",
       "      <td>5638.94</td>\n",
       "      <td>0.00</td>\n",
       "    </tr>\n",
       "    <tr>\n",
       "      <th>2025-03-14 16:20:00</th>\n",
       "      <td>5638.94</td>\n",
       "      <td>5638.94</td>\n",
       "      <td>5638.94</td>\n",
       "      <td>5638.94</td>\n",
       "      <td>0.00</td>\n",
       "    </tr>\n",
       "    <tr>\n",
       "      <th>2025-03-14 16:57:00</th>\n",
       "      <td>5638.94</td>\n",
       "      <td>5638.94</td>\n",
       "      <td>5638.94</td>\n",
       "      <td>5638.94</td>\n",
       "      <td>0.00</td>\n",
       "    </tr>\n",
       "    <tr>\n",
       "      <th>NaT</th>\n",
       "      <td>NaN</td>\n",
       "      <td>NaN</td>\n",
       "      <td>NaN</td>\n",
       "      <td>NaN</td>\n",
       "      <td>NaN</td>\n",
       "    </tr>\n",
       "  </tbody>\n",
       "</table>\n",
       "<p>4121 rows × 5 columns</p>\n",
       "</div>"
      ],
      "text/plain": [
       "                        Open     High      Low    Close  Change\n",
       "date                                                           \n",
       "2025-03-03 09:30:00  5968.33  5972.39  5967.38  5968.67    0.00\n",
       "2025-03-03 09:31:00  5969.04  5976.85  5968.94  5976.85    8.18\n",
       "2025-03-03 09:32:00  5977.58  5983.49  5977.58  5982.61    5.76\n",
       "2025-03-03 09:33:00  5982.98  5986.09  5978.87  5979.04   -3.57\n",
       "2025-03-03 09:34:00  5979.03  5982.73  5978.59  5979.67    0.63\n",
       "...                      ...      ...      ...      ...     ...\n",
       "2025-03-14 16:18:00  5638.94  5638.94  5638.94  5638.94    0.00\n",
       "2025-03-14 16:19:00  5638.94  5638.94  5638.94  5638.94    0.00\n",
       "2025-03-14 16:20:00  5638.94  5638.94  5638.94  5638.94    0.00\n",
       "2025-03-14 16:57:00  5638.94  5638.94  5638.94  5638.94    0.00\n",
       "NaT                      NaN      NaN      NaN      NaN     NaN\n",
       "\n",
       "[4121 rows x 5 columns]"
      ]
     },
     "execution_count": 3,
     "metadata": {},
     "output_type": "execute_result"
    }
   ],
   "source": [
    "import pandas as pd\n",
    "spx_df = pd.read_csv(SPX_1M)\n",
    "spx_df['Date Time'] = pd.to_datetime(spx_df['Date Time'], errors='coerce')\n",
    "spx_df = spx_df.rename(columns={'Date Time': 'date'})\n",
    "spx_df = spx_df.set_index('date')\n",
    "spx_df\n"
   ]
  },
  {
   "cell_type": "code",
   "execution_count": 4,
   "id": "6ffbca18",
   "metadata": {},
   "outputs": [
    {
     "data": {
      "image/png": "[encoded data removed]",
      "text/plain": [
       "<Figure size 1200x600 with 1 Axes>"
      ]
     },
     "metadata": {},
     "output_type": "display_data"
    }
   ],
   "source": [
    "import seaborn as sns\n",
    "import matplotlib.pyplot as plt\n",
    "plt.figure(figsize=(12, 6))\n",
    "sns.lineplot(x=spx_df.index, y='Close', data=spx_df)\n",
    "plt.title('SPX 1-Minute Close')\n",
    "plt.xlabel('Date')\n",
    "plt.ylabel('Price')\n",
    "plt.tight_layout()\n",
    "plt.show()\n"
   ]
  }
 ],
 "metadata": {
  "kernelspec": {
   "display_name": "base",
   "language": "python",
   "name": "python3"
  },
  "language_info": {
   "codemirror_mode": {
    "name": "ipython",
    "version": 3
   },
   "file_extension": ".py",
   "mimetype": "text/x-python",
   "name": "python",
   "nbconvert_exporter": "python",
   "pygments_lexer": "ipython3",
   "version": "3.12.9"
  }
 },
 "nbformat": 4,
 "nbformat_minor": 5
}
