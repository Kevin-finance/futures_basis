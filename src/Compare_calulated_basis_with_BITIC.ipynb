{
 "cells": [
  {
   "cell_type": "markdown",
   "id": "47d19fee",
   "metadata": {},
   "source": [
    "\n",
    "BTIC Trade Data vs. Custom Basis Analysis\n",
    "This notebook will:\n",
    "1. Load and process BTIC trade data using `process_trade_data` from our `trade_data_processing.py` module.\n",
    "2. Compute our own basis series (placeholder).\n",
    "3. Compare the BTIC series to our custom basis and visualize results."
   ]
  },
  {
   "cell_type": "code",
   "execution_count": 21,
   "id": "0794525e",
   "metadata": {},
   "outputs": [],
   "source": [
    "import polars as pl\n",
    "import numpy as np\n",
    "import matplotlib.pyplot as plt\n",
    "\n",
    "# Import the processing pipeline we defined\n",
    "from trade_data_processing_polar import process_trade_data\n",
    "\n",
    "import sys\n",
    "from pathlib import Path"
   ]
  },
  {
   "cell_type": "code",
   "execution_count": 22,
   "id": "9db27f43",
   "metadata": {},
   "outputs": [],
   "source": [
    "# ## 2. Load BTIC Trade Data\n",
    "base_dir = Path.cwd().parent if Path.cwd().name == 'src' else Path.cwd()\n",
    "btic_path = base_dir / 'data_manual' / 'PJ_Lab_EST_Trade_03_10_03_14_1min.csv'\n",
    "\n",
    "df_btic = pl.read_csv(str(btic_path))\n"
   ]
  },
  {
   "cell_type": "code",
   "execution_count": 23,
   "id": "5db73321",
   "metadata": {},
   "outputs": [
    {
     "name": "stdout",
     "output_type": "stream",
     "text": [
      "shape: (5, 29)\n",
      "┌────────┬────────────┬────────┬────────────┬───┬────────────┬────────────┬────────────┬───────────┐\n",
      "│ #RIC   ┆ Alias      ┆ Domain ┆ Date-Time  ┆ … ┆ Open Ask   ┆ High Ask   ┆ Low Ask    ┆ Close Ask │\n",
      "│ ---    ┆ Underlying ┆ ---    ┆ ---        ┆   ┆ Size       ┆ Size       ┆ Size       ┆ Size      │\n",
      "│ str    ┆ RIC        ┆ str    ┆ str        ┆   ┆ ---        ┆ ---        ┆ ---        ┆ ---       │\n",
      "│        ┆ ---        ┆        ┆            ┆   ┆ i64        ┆ i64        ┆ i64        ┆ i64       │\n",
      "│        ┆ str        ┆        ┆            ┆   ┆            ┆            ┆            ┆           │\n",
      "╞════════╪════════════╪════════╪════════════╪═══╪════════════╪════════════╪════════════╪═══════════╡\n",
      "│ SETH25 ┆ null       ┆ Market ┆ 2025-03-10 ┆ … ┆ null       ┆ null       ┆ null       ┆ null      │\n",
      "│        ┆            ┆ Price  ┆ T06:52:00. ┆   ┆            ┆            ┆            ┆           │\n",
      "│        ┆            ┆        ┆ 000000000Z ┆   ┆            ┆            ┆            ┆           │\n",
      "│ SETH25 ┆ null       ┆ Market ┆ 2025-03-10 ┆ … ┆ null       ┆ null       ┆ null       ┆ null      │\n",
      "│        ┆            ┆ Price  ┆ T12:08:00. ┆   ┆            ┆            ┆            ┆           │\n",
      "│        ┆            ┆        ┆ 000000000Z ┆   ┆            ┆            ┆            ┆           │\n",
      "│ SETH25 ┆ null       ┆ Market ┆ 2025-03-10 ┆ … ┆ null       ┆ null       ┆ null       ┆ null      │\n",
      "│        ┆            ┆ Price  ┆ T12:09:00. ┆   ┆            ┆            ┆            ┆           │\n",
      "│        ┆            ┆        ┆ 000000000Z ┆   ┆            ┆            ┆            ┆           │\n",
      "│ SETH25 ┆ null       ┆ Market ┆ 2025-03-10 ┆ … ┆ 1          ┆ 1          ┆ 1          ┆ 1         │\n",
      "│        ┆            ┆ Price  ┆ T12:48:00. ┆   ┆            ┆            ┆            ┆           │\n",
      "│        ┆            ┆        ┆ 000000000Z ┆   ┆            ┆            ┆            ┆           │\n",
      "│ SETH25 ┆ null       ┆ Market ┆ 2025-03-10 ┆ … ┆ 1          ┆ 1          ┆ 1          ┆ 1         │\n",
      "│        ┆            ┆ Price  ┆ T13:09:00. ┆   ┆            ┆            ┆            ┆           │\n",
      "│        ┆            ┆        ┆ 000000000Z ┆   ┆            ┆            ┆            ┆           │\n",
      "└────────┴────────────┴────────┴────────────┴───┴────────────┴────────────┴────────────┴───────────┘\n"
     ]
    }
   ],
   "source": [
    "print(df_btic.head())"
   ]
  },
  {
   "cell_type": "markdown",
   "id": "d4dc17b4",
   "metadata": {},
   "source": [
    "\n",
    "3. Process with Rolling VWAP + Hampel Filter\n",
    "\n",
    "Use our standard parameters or tweak the windows/thresholds."
   ]
  },
  {
   "cell_type": "code",
   "execution_count": 24,
   "id": "0f6be8c9",
   "metadata": {},
   "outputs": [
    {
     "name": "stdout",
     "output_type": "stream",
     "text": [
      "Hampel filter replaced 105 outliers in 'vwap_5'.\n",
      "shape: (5, 3)\n",
      "┌─────────────────────────┬────────┬─────────────────┐\n",
      "│ Date-Time               ┆ vwap_5 ┆ vwap_5_filtered │\n",
      "│ ---                     ┆ ---    ┆ ---             │\n",
      "│ datetime[μs, UTC]       ┆ f64    ┆ f64             │\n",
      "╞═════════════════════════╪════════╪═════════════════╡\n",
      "│ 2025-03-10 06:52:00 UTC ┆ null   ┆ NaN             │\n",
      "│ 2025-03-10 12:08:00 UTC ┆ 6.9    ┆ 6.9             │\n",
      "│ 2025-03-10 12:09:00 UTC ┆ 6.9    ┆ 6.9             │\n",
      "│ 2025-03-10 12:48:00 UTC ┆ 6.9    ┆ 6.9             │\n",
      "│ 2025-03-10 13:09:00 UTC ┆ 6.9    ┆ 6.9             │\n",
      "└─────────────────────────┴────────┴─────────────────┘\n"
     ]
    }
   ],
   "source": [
    "processed_btic = process_trade_data(\n",
    "    df_btic,\n",
    "    price_col='Last',\n",
    "    volume_col='Volume',\n",
    "    timestamp_col='Date-Time',\n",
    "    vwap_window=5,\n",
    "    filter_window=10,\n",
    "    filter_threshold=3.0\n",
    ")\n",
    "\n",
    "# Show the VWAP and filtered columns\n",
    "print(processed_btic.select(['Date-Time', 'vwap_5', 'vwap_5_filtered']).head())"
   ]
  },
  {
   "cell_type": "markdown",
   "id": "11116a9a",
   "metadata": {},
   "source": [
    "\n",
    "4. Compute Custom Basis Series (Placeholder)\n",
    "``"
   ]
  },
  {
   "cell_type": "code",
   "execution_count": 25,
   "id": "8af8cc23",
   "metadata": {},
   "outputs": [
    {
     "name": "stdout",
     "output_type": "stream",
     "text": [
      "shape: (5, 2)\n",
      "┌─────────────────────────┬──────────────┐\n",
      "│ Date-Time               ┆ custom_basis │\n",
      "│ ---                     ┆ ---          │\n",
      "│ datetime[μs, UTC]       ┆ f64          │\n",
      "╞═════════════════════════╪══════════════╡\n",
      "│ 2025-03-10 06:52:00 UTC ┆ null         │\n",
      "│ 2025-03-10 12:08:00 UTC ┆ 0.0          │\n",
      "│ 2025-03-10 12:09:00 UTC ┆ null         │\n",
      "│ 2025-03-10 12:48:00 UTC ┆ null         │\n",
      "│ 2025-03-10 13:09:00 UTC ┆ null         │\n",
      "└─────────────────────────┴──────────────┘\n"
     ]
    }
   ],
   "source": [
    "# TODO: Replace with actual basis calculation\n",
    "basis_series = processed_btic['vwap_5_filtered'] - processed_btic['Last']\n",
    "processed_btic = processed_btic.with_columns(\n",
    "    basis_series.alias('custom_basis')\n",
    ")\n",
    "print(processed_btic.select(['Date-Time', 'custom_basis']).head())"
   ]
  },
  {
   "cell_type": "markdown",
   "id": "ac27af04",
   "metadata": {},
   "source": [
    "5. Compare BTIC VWAP to Custom Basis\n"
   ]
  },
  {
   "cell_type": "code",
   "execution_count": 26,
   "id": "6cfe388d",
   "metadata": {},
   "outputs": [
    {
     "data": {
      "image/png": "[encoded data removed]",
      "text/plain": [
       "<Figure size 1200x600 with 1 Axes>"
      ]
     },
     "metadata": {},
     "output_type": "display_data"
    }
   ],
   "source": [
    "plt.figure(figsize=(12, 6))\n",
    "plt.plot(\n",
    "    processed_btic['Date-Time'].to_numpy(),\n",
    "    processed_btic['vwap_5_filtered'].to_numpy(),\n",
    "    label='Filtered VWAP (BTIC)'\n",
    ")\n",
    "plt.plot(\n",
    "    processed_btic['Date-Time'].to_numpy(),\n",
    "    processed_btic['custom_basis'].to_numpy(),\n",
    "    label='Custom Basis'\n",
    ")\n",
    "plt.xlabel('Date-Time')\n",
    "plt.ylabel('Value')\n",
    "plt.title('BTIC Filtered VWAP vs. Custom Basis')\n",
    "plt.legend()\n",
    "plt.show()"
   ]
  },
  {
   "cell_type": "markdown",
   "id": "f8dc4f76",
   "metadata": {},
   "source": [
    "6. Compute Error Metrics\n",
    "\n",
    "Calculate Mean Squared Error (MSE), Mean Absolute Error (MAE),\n",
    "#plus standard deviations of each series and the Pearson correlation."
   ]
  },
  {
   "cell_type": "code",
   "execution_count": 27,
   "id": "b0b0c8f1",
   "metadata": {},
   "outputs": [
    {
     "name": "stdout",
     "output_type": "stream",
     "text": [
      "Mean Squared Error (MSE): nan\n",
      "Mean Absolute Error (MAE): nan\n",
      "STD of Filtered VWAP: nan\n",
      "STD of Custom Basis: nan\n",
      "Pearson Correlation (r): nan\n"
     ]
    }
   ],
   "source": [
    "# Extract NumPy arrays\n",
    "vw = processed_btic['vwap_5_filtered'].to_numpy()\n",
    "basis = processed_btic['custom_basis'].to_numpy()\n",
    "\n",
    "# 6.1 Basic error metrics\n",
    "mse = np.mean((vw - basis) ** 2)\n",
    "mae = np.mean(np.abs(vw - basis))\n",
    "\n",
    "# 6.2 Standard deviations\n",
    "std_vw = np.std(vw)\n",
    "std_basis = np.std(basis)\n",
    "\n",
    "# 6.3 Pearson correlation coefficient\n",
    "auto_corr = np.corrcoef(vw, basis)[0, 1]\n",
    "\n",
    "# Print metrics\n",
    "print(f\"Mean Squared Error (MSE): {mse:.6f}\")\n",
    "print(f\"Mean Absolute Error (MAE): {mae:.6f}\")\n",
    "print(f\"STD of Filtered VWAP: {std_vw:.6f}\")\n",
    "print(f\"STD of Custom Basis: {std_basis:.6f}\")\n",
    "print(f\"Pearson Correlation (r): {auto_corr:.4f}\")"
   ]
  }
 ],
 "metadata": {
  "kernelspec": {
   "display_name": "Python 3",
   "language": "python",
   "name": "python3"
  },
  "language_info": {
   "codemirror_mode": {
    "name": "ipython",
    "version": 3
   },
   "file_extension": ".py",
   "mimetype": "text/x-python",
   "name": "python",
   "nbconvert_exporter": "python",
   "pygments_lexer": "ipython3",
   "version": "3.12.5"
  }
 },
 "nbformat": 4,
 "nbformat_minor": 5
}
